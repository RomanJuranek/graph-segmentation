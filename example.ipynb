{
 "metadata": {
  "language_info": {
   "codemirror_mode": {
    "name": "ipython",
    "version": 3
   },
   "file_extension": ".py",
   "mimetype": "text/x-python",
   "name": "python",
   "nbconvert_exporter": "python",
   "pygments_lexer": "ipython3",
   "version": "3.6.7-final"
  },
  "orig_nbformat": 2,
  "kernelspec": {
   "name": "python36764bittescan27c3df296bce4857bbb2f209032112fa",
   "display_name": "Python 3.6.7 64-bit ('TESCAN')"
  }
 },
 "nbformat": 4,
 "nbformat_minor": 2,
 "cells": [
  {
   "cell_type": "code",
   "execution_count": null,
   "metadata": {},
   "outputs": [],
   "source": [
    "from itertools import product\n",
    "from pathlib import Path\n",
    "import numpy as np\n",
    "import matplotlib.pyplot as plt\n",
    "from skimage.color import label2rgb\n",
    "import tima\n",
    "%matplotlib inline\n",
    "\n",
    "# Load the example field\n",
    "field = tima.Field.from_path(Path(\"data/example/field-1\"))"
   ]
  },
  {
   "cell_type": "code",
   "execution_count": null,
   "metadata": {
    "tags": []
   },
   "outputs": [],
   "source": [
    "# Load embedding model\n",
    "model = tima.load_embedding_network(\"models/embedding.h5\")"
   ]
  },
  {
   "cell_type": "code",
   "execution_count": null,
   "metadata": {
    "tags": []
   },
   "outputs": [],
   "source": [
    "# Initialize the segmentation method\n",
    "# This may be time consuming but done only once per field\n",
    "G = tima.GraphEmbeddingSegmentation(field, slice(20,1556), model)"
   ]
  },
  {
   "cell_type": "code",
   "execution_count": null,
   "metadata": {
    "tags": []
   },
   "outputs": [],
   "source": [
    "# Show segmentation results for different parameters in matrix\n",
    "# We show segment labels in random unique colors\n",
    "theta_b = np.linspace(0.2, 0.4, 4)\n",
    "theta_e = np.linspace(0.2, 0.4, 4)\n",
    "\n",
    "plt.figure(figsize=(15,15))\n",
    "for k, (tb, te) in enumerate(product(theta_b, theta_e), start=1):\n",
    "    G.label_nodes(theta_b=tb, theta_e=te)\n",
    "    lbl = G.field_labels()\n",
    "    lbl_rgb = label2rgb(lbl, colors=tima.unique_colors(lbl.max()))\n",
    "\n",
    "    ax = plt.subplot(4,4,k)\n",
    "    ax.imshow(lbl_rgb, interpolation=\"bilinear\")\n",
    "    ax.set(xticks=[], yticks=[], title=f\"$\\delta_b={tb:0.2f}$, $\\delta_e={te:0.2f}$\")\n",
    "\n",
    "plt.tight_layout()"
   ]
  }
 ]
}